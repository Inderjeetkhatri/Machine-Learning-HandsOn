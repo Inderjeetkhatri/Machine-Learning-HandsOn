{
 "cells": [
  {
   "cell_type": "code",
   "execution_count": 57,
   "metadata": {
    "collapsed": true
   },
   "outputs": [],
   "source": [
    "import pandas as pd\n",
    "import numpy as np"
   ]
  },
  {
   "cell_type": "code",
   "execution_count": 58,
   "metadata": {
    "collapsed": false
   },
   "outputs": [],
   "source": [
    "mydata=pd.read_csv(r\"C:\\Users\\student711\\Desktop\\pulkit\\DataSets-master\\DataSets-master\\Data_MVLR.csv\")"
   ]
  },
  {
   "cell_type": "code",
   "execution_count": 59,
   "metadata": {
    "collapsed": false
   },
   "outputs": [
    {
     "data": {
      "text/html": [
       "<div>\n",
       "<table border=\"1\" class=\"dataframe\">\n",
       "  <thead>\n",
       "    <tr style=\"text-align: right;\">\n",
       "      <th></th>\n",
       "      <th>Petrol_tax</th>\n",
       "      <th>Average_income</th>\n",
       "      <th>Paved_Highways</th>\n",
       "      <th>Population_Driver_licence(%)</th>\n",
       "      <th>Petrol_Consumption</th>\n",
       "    </tr>\n",
       "  </thead>\n",
       "  <tbody>\n",
       "    <tr>\n",
       "      <th>0</th>\n",
       "      <td>9.0</td>\n",
       "      <td>3571</td>\n",
       "      <td>1976</td>\n",
       "      <td>0.525</td>\n",
       "      <td>541</td>\n",
       "    </tr>\n",
       "    <tr>\n",
       "      <th>1</th>\n",
       "      <td>9.0</td>\n",
       "      <td>4092</td>\n",
       "      <td>1250</td>\n",
       "      <td>0.572</td>\n",
       "      <td>524</td>\n",
       "    </tr>\n",
       "    <tr>\n",
       "      <th>2</th>\n",
       "      <td>9.0</td>\n",
       "      <td>3865</td>\n",
       "      <td>1586</td>\n",
       "      <td>0.580</td>\n",
       "      <td>561</td>\n",
       "    </tr>\n",
       "    <tr>\n",
       "      <th>3</th>\n",
       "      <td>7.5</td>\n",
       "      <td>4870</td>\n",
       "      <td>2351</td>\n",
       "      <td>0.529</td>\n",
       "      <td>414</td>\n",
       "    </tr>\n",
       "    <tr>\n",
       "      <th>4</th>\n",
       "      <td>8.0</td>\n",
       "      <td>4399</td>\n",
       "      <td>431</td>\n",
       "      <td>0.544</td>\n",
       "      <td>410</td>\n",
       "    </tr>\n",
       "  </tbody>\n",
       "</table>\n",
       "</div>"
      ],
      "text/plain": [
       "   Petrol_tax  Average_income  Paved_Highways  Population_Driver_licence(%)  \\\n",
       "0         9.0            3571            1976                         0.525   \n",
       "1         9.0            4092            1250                         0.572   \n",
       "2         9.0            3865            1586                         0.580   \n",
       "3         7.5            4870            2351                         0.529   \n",
       "4         8.0            4399             431                         0.544   \n",
       "\n",
       "   Petrol_Consumption  \n",
       "0                 541  \n",
       "1                 524  \n",
       "2                 561  \n",
       "3                 414  \n",
       "4                 410  "
      ]
     },
     "execution_count": 59,
     "metadata": {},
     "output_type": "execute_result"
    }
   ],
   "source": [
    "mydata.head()"
   ]
  },
  {
   "cell_type": "code",
   "execution_count": 60,
   "metadata": {
    "collapsed": true
   },
   "outputs": [],
   "source": [
    "x_in=mydata.iloc[:,:4]\n",
    "y_out=mydata.iloc[:,4]"
   ]
  },
  {
   "cell_type": "code",
   "execution_count": 61,
   "metadata": {
    "collapsed": false
   },
   "outputs": [
    {
     "data": {
      "text/plain": [
       "0     541\n",
       "1     524\n",
       "2     561\n",
       "3     414\n",
       "4     410\n",
       "5     457\n",
       "6     344\n",
       "7     467\n",
       "8     464\n",
       "9     498\n",
       "10    580\n",
       "11    471\n",
       "12    525\n",
       "13    508\n",
       "14    566\n",
       "15    635\n",
       "16    603\n",
       "17    714\n",
       "18    865\n",
       "19    640\n",
       "20    649\n",
       "21    540\n",
       "22    464\n",
       "23    547\n",
       "24    460\n",
       "25    566\n",
       "26    577\n",
       "27    631\n",
       "28    574\n",
       "29    534\n",
       "30    571\n",
       "31    554\n",
       "32    577\n",
       "33    628\n",
       "34    487\n",
       "35    644\n",
       "36    640\n",
       "37    704\n",
       "38    648\n",
       "39    968\n",
       "40    587\n",
       "41    699\n",
       "42    632\n",
       "43    591\n",
       "44    782\n",
       "45    510\n",
       "46    610\n",
       "47    524\n",
       "Name: Petrol_Consumption, dtype: int64"
      ]
     },
     "execution_count": 61,
     "metadata": {},
     "output_type": "execute_result"
    }
   ],
   "source": [
    "y_out"
   ]
  },
  {
   "cell_type": "code",
   "execution_count": 62,
   "metadata": {
    "collapsed": true
   },
   "outputs": [],
   "source": [
    "from sklearn.model_selection import train_test_split"
   ]
  },
  {
   "cell_type": "code",
   "execution_count": 84,
   "metadata": {
    "collapsed": true
   },
   "outputs": [],
   "source": [
    "#split\n",
    "x_train,x_test,y_train,y_test=train_test_split(x_in,y_out,test_size=.20,random_state=153)"
   ]
  },
  {
   "cell_type": "code",
   "execution_count": 85,
   "metadata": {
    "collapsed": true
   },
   "outputs": [],
   "source": [
    "#preprocessing\n",
    "from sklearn.preprocessing import StandardScaler"
   ]
  },
  {
   "cell_type": "code",
   "execution_count": 86,
   "metadata": {
    "collapsed": true
   },
   "outputs": [],
   "source": [
    "myscaler=StandardScaler()"
   ]
  },
  {
   "cell_type": "code",
   "execution_count": 87,
   "metadata": {
    "collapsed": false
   },
   "outputs": [
    {
     "name": "stderr",
     "output_type": "stream",
     "text": [
      "C:\\Users\\student711\\Anaconda3\\lib\\site-packages\\sklearn\\utils\\validation.py:429: DataConversionWarning: Data with input dtype int64 was converted to float64 by StandardScaler.\n",
      "  warnings.warn(msg, _DataConversionWarning)\n",
      "C:\\Users\\student711\\Anaconda3\\lib\\site-packages\\sklearn\\preprocessing\\data.py:586: DeprecationWarning: Passing 1d arrays as data is deprecated in 0.17 and will raise ValueError in 0.19. Reshape your data either using X.reshape(-1, 1) if your data has a single feature or X.reshape(1, -1) if it contains a single sample.\n",
      "  warnings.warn(DEPRECATION_MSG_1D, DeprecationWarning)\n",
      "C:\\Users\\student711\\Anaconda3\\lib\\site-packages\\sklearn\\preprocessing\\data.py:649: DeprecationWarning: Passing 1d arrays as data is deprecated in 0.17 and will raise ValueError in 0.19. Reshape your data either using X.reshape(-1, 1) if your data has a single feature or X.reshape(1, -1) if it contains a single sample.\n",
      "  warnings.warn(DEPRECATION_MSG_1D, DeprecationWarning)\n",
      "C:\\Users\\student711\\Anaconda3\\lib\\site-packages\\sklearn\\preprocessing\\data.py:586: DeprecationWarning: Passing 1d arrays as data is deprecated in 0.17 and will raise ValueError in 0.19. Reshape your data either using X.reshape(-1, 1) if your data has a single feature or X.reshape(1, -1) if it contains a single sample.\n",
      "  warnings.warn(DEPRECATION_MSG_1D, DeprecationWarning)\n",
      "C:\\Users\\student711\\Anaconda3\\lib\\site-packages\\sklearn\\preprocessing\\data.py:649: DeprecationWarning: Passing 1d arrays as data is deprecated in 0.17 and will raise ValueError in 0.19. Reshape your data either using X.reshape(-1, 1) if your data has a single feature or X.reshape(1, -1) if it contains a single sample.\n",
      "  warnings.warn(DEPRECATION_MSG_1D, DeprecationWarning)\n"
     ]
    }
   ],
   "source": [
    "x_mystd=myscaler.fit_transform(x_train)\n",
    "y_mystd=myscaler.fit_transform(y_train)\n",
    "xx_test=myscaler.fit_transform(x_test)\n",
    "yy_test=myscaler.fit_transform(y_test)"
   ]
  },
  {
   "cell_type": "code",
   "execution_count": 88,
   "metadata": {
    "collapsed": false
   },
   "outputs": [
    {
     "data": {
      "text/plain": [
       "array([[  1.24997112e+00,  -1.01870975e-02,  -2.56689058e-01,\n",
       "         -8.56460710e-01],\n",
       "       [ -7.32453864e-01,  -9.73501571e-01,  -2.46114682e-01,\n",
       "         -4.54016269e-01],\n",
       "       [  2.24118362e+00,   1.92357751e+00,  -1.16581427e+00,\n",
       "          8.84088475e-02],\n",
       "       [ -2.36847617e-01,   1.08156931e+00,  -8.89795942e-01,\n",
       "         -6.46489697e-01],\n",
       "       [ -7.32453864e-01,   4.42927488e-01,   7.79328673e-01,\n",
       "         -2.44045256e-01],\n",
       "       [ -2.36847617e-01,  -7.45160363e-01,   9.29539043e-01,\n",
       "          2.28389523e-01],\n",
       "       [  7.54364877e-01,   5.53530261e-01,  -8.17130997e-01,\n",
       "         -2.61542841e-01],\n",
       "       [ -7.32453864e-01,   9.68478440e-02,   1.27632435e+00,\n",
       "          3.50872614e-01],\n",
       "       [ -7.32453864e-01,  -1.02950713e-01,   7.79599811e-01,\n",
       "          1.05906432e-01],\n",
       "       [ -7.32453864e-01,   6.47373616e-02,  -5.41654940e-01,\n",
       "          6.48331548e-01],\n",
       "       [  1.24997112e+00,   3.78706523e-01,  -4.58415620e-01,\n",
       "          8.84088475e-02],\n",
       "       [  2.58758630e-01,   1.28315178e+00,  -1.36401604e+00,\n",
       "          6.30833964e-01],\n",
       "       [ -7.32453864e-01,  -1.11264700e+00,   3.44965834e-01,\n",
       "         -8.38963126e-01],\n",
       "       [  1.24997112e+00,   1.12973503e+00,  -8.63224432e-01,\n",
       "         -9.61446217e-01],\n",
       "       [ -7.32453864e-01,   1.21822664e-01,   6.84972700e-01,\n",
       "          7.35819470e-01],\n",
       "       [  1.24997112e+00,  -3.06317102e-01,  -1.18831872e+00,\n",
       "          1.05906432e-01],\n",
       "       [  1.24997112e+00,  -7.11265964e-01,  -1.09721640e+00,\n",
       "          2.45887107e-01],\n",
       "       [ -2.36847617e-01,   1.53825172e+00,   2.31912053e+00,\n",
       "         -7.16480035e-01],\n",
       "       [ -1.72366636e+00,   1.69702022e+00,  -9.03081696e-01,\n",
       "          1.85566487e+00],\n",
       "       [ -7.32453864e-01,  -6.54180662e-01,   2.03974152e-01,\n",
       "          3.50872614e-01],\n",
       "       [ -7.32453864e-01,   1.45013568e-01,  -4.68447720e-01,\n",
       "          1.85566487e+00],\n",
       "       [ -2.71487885e+00,  -3.90161140e-01,   3.29413225e+00,\n",
       "          9.20925495e-04],\n",
       "       [  2.58758630e-01,  -1.45515881e+00,  -6.33677700e-02,\n",
       "         -3.14035594e-01],\n",
       "       [ -7.32453864e-01,   8.06846289e-01,   7.65393614e-02,\n",
       "          2.76553926e+00],\n",
       "       [ -7.32453864e-01,   5.87424659e-01,   5.96852899e-01,\n",
       "          1.69818661e+00],\n",
       "       [  2.58758630e-01,  -1.31244555e+00,  -5.79614239e-01,\n",
       "         -1.38138824e+00],\n",
       "       [  7.54364877e-01,  -1.12156657e+00,  -6.39535705e-01,\n",
       "          1.69818661e+00],\n",
       "       [ -1.14876311e+00,  -8.23652653e-01,   5.96852899e-01,\n",
       "          1.10326874e+00],\n",
       "       [  2.58758630e-01,   1.88254745e+00,   1.69062299e+00,\n",
       "         -2.01130128e+00],\n",
       "       [  1.24997112e+00,  -9.68149824e-01,  -2.40420787e-01,\n",
       "         -3.84025931e-01],\n",
       "       [  2.58758630e-01,   2.27073690e-01,   8.30466699e-02,\n",
       "         -6.28992113e-01],\n",
       "       [ -7.32453864e-01,  -9.25335848e-01,  -8.19300100e-01,\n",
       "         -1.01393897e+00],\n",
       "       [  1.24997112e+00,  -1.18221971e+00,  -2.66450021e-01,\n",
       "         -1.27640274e+00],\n",
       "       [  2.58758630e-01,   1.53825172e+00,  -9.47548304e-01,\n",
       "         -2.26547672e-01],\n",
       "       [  2.58758630e-01,   3.26972968e-01,   7.98308322e-01,\n",
       "         -6.46489697e-01],\n",
       "       [  1.24997112e+00,  -1.23573718e+00,  -9.91472636e-01,\n",
       "         -7.16480035e-01],\n",
       "       [  2.58758630e-01,  -1.35061196e-01,   9.28076325e-02,\n",
       "         -5.15718277e-02],\n",
       "       [ -7.32453864e-01,  -1.66030911e+00,   2.60641963e-01,\n",
       "         -9.26451048e-01]])"
      ]
     },
     "execution_count": 88,
     "metadata": {},
     "output_type": "execute_result"
    }
   ],
   "source": [
    "x_mystd"
   ]
  },
  {
   "cell_type": "code",
   "execution_count": 89,
   "metadata": {
    "collapsed": false
   },
   "outputs": [
    {
     "data": {
      "text/plain": [
       "array([-0.26601797,  1.15140439, -1.02989828, -1.39486332, -0.68190836,\n",
       "        0.44693699, -1.00443561,  0.48088723,  0.20928534,  0.45542455,\n",
       "       -0.58005765, -0.32543088, -0.06231655, -0.97048537, -0.10475435,\n",
       "       -0.46123183, -0.14719214, -0.91107246,  1.72855841,  1.0665288 ,\n",
       "        3.30724439,  0.52332502, -0.0113912 ,  2.43302581,  0.59971305,\n",
       "       -0.77527151,  0.59122549,  0.55727526, -1.98899246, -0.10475435,\n",
       "        0.01407148,  0.10743463, -0.37635624, -0.94502269, -0.97048537,\n",
       "       -0.31694332, -0.03685387, -0.20660506])"
      ]
     },
     "execution_count": 89,
     "metadata": {},
     "output_type": "execute_result"
    }
   ],
   "source": [
    "y_mystd"
   ]
  },
  {
   "cell_type": "code",
   "execution_count": 90,
   "metadata": {
    "collapsed": false
   },
   "outputs": [
    {
     "data": {
      "text/plain": [
       "0.0"
      ]
     },
     "execution_count": 90,
     "metadata": {},
     "output_type": "execute_result"
    }
   ],
   "source": [
    "round(x_mystd.mean())"
   ]
  },
  {
   "cell_type": "code",
   "execution_count": 91,
   "metadata": {
    "collapsed": false
   },
   "outputs": [
    {
     "data": {
      "text/plain": [
       "-0.0"
      ]
     },
     "execution_count": 91,
     "metadata": {},
     "output_type": "execute_result"
    }
   ],
   "source": [
    "round(y_mystd.mean())"
   ]
  },
  {
   "cell_type": "code",
   "execution_count": 92,
   "metadata": {
    "collapsed": false
   },
   "outputs": [
    {
     "data": {
      "text/plain": [
       "1.0"
      ]
     },
     "execution_count": 92,
     "metadata": {},
     "output_type": "execute_result"
    }
   ],
   "source": [
    "round(y_mystd.std())"
   ]
  },
  {
   "cell_type": "code",
   "execution_count": 93,
   "metadata": {
    "collapsed": false
   },
   "outputs": [
    {
     "data": {
      "text/plain": [
       "1.0"
      ]
     },
     "execution_count": 93,
     "metadata": {},
     "output_type": "execute_result"
    }
   ],
   "source": [
    "round(x_mystd.std())"
   ]
  },
  {
   "cell_type": "code",
   "execution_count": 94,
   "metadata": {
    "collapsed": true
   },
   "outputs": [],
   "source": [
    "from sklearn.linear_model import LinearRegression"
   ]
  },
  {
   "cell_type": "code",
   "execution_count": 95,
   "metadata": {
    "collapsed": true
   },
   "outputs": [],
   "source": [
    "myobj=LinearRegression()"
   ]
  },
  {
   "cell_type": "code",
   "execution_count": 96,
   "metadata": {
    "collapsed": true
   },
   "outputs": [],
   "source": [
    "mylearner=myobj.fit(x_mystd,y_mystd)"
   ]
  },
  {
   "cell_type": "code",
   "execution_count": 97,
   "metadata": {
    "collapsed": true
   },
   "outputs": [],
   "source": [
    "ya=yy_test"
   ]
  },
  {
   "cell_type": "code",
   "execution_count": 98,
   "metadata": {
    "collapsed": false
   },
   "outputs": [],
   "source": [
    "yp=mylearner.predict(xx_test)"
   ]
  },
  {
   "cell_type": "code",
   "execution_count": 99,
   "metadata": {
    "collapsed": true
   },
   "outputs": [],
   "source": [
    "from sklearn.metrics import mean_squared_error"
   ]
  },
  {
   "cell_type": "code",
   "execution_count": 100,
   "metadata": {
    "collapsed": false
   },
   "outputs": [],
   "source": [
    "error=mean_squared_error(ya,yp)"
   ]
  },
  {
   "cell_type": "code",
   "execution_count": 102,
   "metadata": {
    "collapsed": false
   },
   "outputs": [],
   "source": [
    "error=np.sqrt(error)"
   ]
  },
  {
   "cell_type": "code",
   "execution_count": 103,
   "metadata": {
    "collapsed": false
   },
   "outputs": [
    {
     "data": {
      "text/plain": [
       "0.7115892995172326"
      ]
     },
     "execution_count": 103,
     "metadata": {},
     "output_type": "execute_result"
    }
   ],
   "source": [
    "error"
   ]
  },
  {
   "cell_type": "code",
   "execution_count": 105,
   "metadata": {
    "collapsed": false
   },
   "outputs": [
    {
     "data": {
      "text/plain": [
       "array([-0.31680673, -0.30077909, -0.10137643,  0.68319565])"
      ]
     },
     "execution_count": 105,
     "metadata": {},
     "output_type": "execute_result"
    }
   ],
   "source": [
    "mylearner.coef_"
   ]
  },
  {
   "cell_type": "code",
   "execution_count": 106,
   "metadata": {
    "collapsed": false
   },
   "outputs": [
    {
     "data": {
      "text/plain": [
       "-1.1372379718834081e-15"
      ]
     },
     "execution_count": 106,
     "metadata": {},
     "output_type": "execute_result"
    }
   ],
   "source": [
    "mylearner.intercept_"
   ]
  },
  {
   "cell_type": "code",
   "execution_count": null,
   "metadata": {
    "collapsed": true
   },
   "outputs": [],
   "source": []
  }
 ],
 "metadata": {
  "kernelspec": {
   "display_name": "Python 3",
   "language": "python",
   "name": "python3"
  },
  "language_info": {
   "codemirror_mode": {
    "name": "ipython",
    "version": 3
   },
   "file_extension": ".py",
   "mimetype": "text/x-python",
   "name": "python",
   "nbconvert_exporter": "python",
   "pygments_lexer": "ipython3",
   "version": "3.6.6"
  }
 },
 "nbformat": 4,
 "nbformat_minor": 2
}
